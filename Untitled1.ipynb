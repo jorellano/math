{
 "cells": [
  {
   "cell_type": "markdown",
   "metadata": {},
   "source": [
    "# HH QR Factorization $$\\bar{X}$$\n",
    "\n",
    "### good at understanding the F\n",
    "\n",
    "$R2$ is full of forward errors.\n",
    "\n",
    "** Make sure if it backwards stable.\n",
    "\n",
    "#### Computing QR factorization is usually one of the first steps in trying to solve a system of lienar equations, at least squares problem, or an eigenvalue problem.\n",
    "    - *Good News* Accuracy of the product $QR$ is usually good enough.\n",
    "    \n",
    "    *don't comupte the inverse* \n",
    "    ============================"
   ]
  },
  {
   "cell_type": "code",
   "execution_count": 15,
   "metadata": {},
   "outputs": [],
   "source": [
    "import numpy as np\n",
    "\n",
    "\n"
   ]
  },
  {
   "cell_type": "code",
   "execution_count": 3,
   "metadata": {},
   "outputs": [],
   "source": [
    "def machineEpsilon(func=float):\n",
    "    machine_epsilon = func(1)\n",
    "    while func(1)+func(machine_epsilon) != func(1):\n",
    "        machine_epsilon_last = machine_epsilon\n",
    "        machine_epsilon = func()"
   ]
  },
  {
   "cell_type": "code",
   "execution_count": 5,
   "metadata": {},
   "outputs": [
    {
     "ename": "SyntaxError",
     "evalue": "invalid syntax (<ipython-input-5-f3cf9af5bd69>, line 2)",
     "output_type": "error",
     "traceback": [
      "\u001b[0;36m  File \u001b[0;32m\"<ipython-input-5-f3cf9af5bd69>\"\u001b[0;36m, line \u001b[0;32m2\u001b[0m\n\u001b[0;31m    while (1 + epsilon > 1.0)\u001b[0m\n\u001b[0m                             ^\u001b[0m\n\u001b[0;31mSyntaxError\u001b[0m\u001b[0;31m:\u001b[0m invalid syntax\n"
     ]
    }
   ],
   "source": [
    "epsilon = 1\n",
    "while (1 + epsilon > 1.0)\n",
    "    epsilon(epsilon/2)\n",
    "    "
   ]
  },
  {
   "cell_type": "code",
   "execution_count": 7,
   "metadata": {},
   "outputs": [],
   "source": [
    "import pprint\n",
    "import scipy\n",
    "import scipy.linalg\n",
    "\n"
   ]
  },
  {
   "cell_type": "code",
   "execution_count": 14,
   "metadata": {},
   "outputs": [
    {
     "name": "stdout",
     "output_type": "stream",
     "text": [
      "A:\n",
      "array([[ 12, -51,   4],\n",
      "       [  6, 167, -68],\n",
      "       [ -4,  24, -41]])\n",
      "Q:\n",
      "array([[-0.85714286,  0.39428571,  0.33142857],\n",
      "       [-0.42857143, -0.90285714, -0.03428571],\n",
      "       [ 0.28571429, -0.17142857,  0.94285714]])\n",
      "R:\n",
      "array([[ -14.,  -21.,   14.],\n",
      "       [   0., -175.,   70.],\n",
      "       [   0.,    0.,  -35.]])\n"
     ]
    }
   ],
   "source": [
    "import pprint\n",
    "import scipy\n",
    "import scipy.linalg   # SciPy Linear Algebra Library\n",
    "\n",
    "A = scipy.array([[12, -51, 4], [6, 167, -68], [-4, 24, -41]])  # From the Wikipedia Article on QR Decomposition\n",
    "Q, R = scipy.linalg.qr(A)\n",
    "\n",
    "print (\"A:\")\n",
    "pprint.pprint(A)\n",
    "\n",
    "print (\"Q:\")\n",
    "pprint.pprint(Q)\n",
    "\n",
    "print (\"R:\")\n",
    "pprint.pprint(R)\n",
    "\n"
   ]
  },
  {
   "cell_type": "markdown",
   "metadata": {},
   "source": [
    "## QR Decomposition"
   ]
  },
  {
   "cell_type": "code",
   "execution_count": null,
   "metadata": {},
   "outputs": [],
   "source": [
    "from math import sqrt\n",
    "from pprtint import pprint"
   ]
  },
  {
   "cell_type": "code",
   "execution_count": null,
   "metadata": {},
   "outputs": [],
   "source": []
  },
  {
   "cell_type": "code",
   "execution_count": null,
   "metadata": {},
   "outputs": [],
   "source": []
  },
  {
   "cell_type": "markdown",
   "metadata": {},
   "source": [
    "## Solving \n",
    "$$A\\bar{x}= \\bar{b} $$"
   ]
  },
  {
   "cell_type": "code",
   "execution_count": null,
   "metadata": {},
   "outputs": [],
   "source": [
    "1100111"
   ]
  },
  {
   "cell_type": "code",
   "execution_count": null,
   "metadata": {},
   "outputs": [],
   "source": []
  },
  {
   "cell_type": "code",
   "execution_count": null,
   "metadata": {},
   "outputs": [],
   "source": []
  },
  {
   "cell_type": "markdown",
   "metadata": {},
   "source": [
    "$k(A) = cond(A) = 2.02223e+16$\n",
    "\n"
   ]
  },
  {
   "cell_type": "code",
   "execution_count": null,
   "metadata": {},
   "outputs": [],
   "source": []
  },
  {
   "cell_type": "code",
   "execution_count": null,
   "metadata": {},
   "outputs": [],
   "source": []
  },
  {
   "cell_type": "code",
   "execution_count": null,
   "metadata": {},
   "outputs": [],
   "source": []
  }
 ],
 "metadata": {
  "kernelspec": {
   "display_name": "Python 3",
   "language": "python",
   "name": "python3"
  },
  "language_info": {
   "codemirror_mode": {
    "name": "ipython",
    "version": 3
   },
   "file_extension": ".py",
   "mimetype": "text/x-python",
   "name": "python",
   "nbconvert_exporter": "python",
   "pygments_lexer": "ipython3",
   "version": "3.6.8"
  }
 },
 "nbformat": 4,
 "nbformat_minor": 2
}
