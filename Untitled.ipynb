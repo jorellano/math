{
 "cells": [
  {
   "cell_type": "code",
   "execution_count": null,
   "metadata": {},
   "outputs": [],
   "source": []
  },
  {
   "cell_type": "code",
   "execution_count": 1,
   "metadata": {},
   "outputs": [
    {
     "name": "stdout",
     "output_type": "stream",
     "text": [
      "README.md       Untitled.ipynb\r\n"
     ]
    }
   ],
   "source": [
    "ls"
   ]
  },
  {
   "cell_type": "code",
   "execution_count": 2,
   "metadata": {},
   "outputs": [
    {
     "name": "stdout",
     "output_type": "stream",
     "text": [
      "/\n"
     ]
    }
   ],
   "source": [
    "cd/"
   ]
  },
  {
   "cell_type": "code",
   "execution_count": 4,
   "metadata": {},
   "outputs": [
    {
     "name": "stdout",
     "output_type": "stream",
     "text": [
      "\u001b[34mApplications\u001b[m\u001b[m/              \u001b[34mhome\u001b[m\u001b[m/\r\n",
      "\u001b[34mLibrary\u001b[m\u001b[m/                   installer.failurerequests\r\n",
      "\u001b[34mNetwork\u001b[m\u001b[m/                   \u001b[34mnet\u001b[m\u001b[m/\r\n",
      "\u001b[34mSystem\u001b[m\u001b[m/                    \u001b[34mopt\u001b[m\u001b[m/\r\n",
      "\u001b[34mUsers\u001b[m\u001b[m/                     \u001b[34mprivate\u001b[m\u001b[m/\r\n",
      "\u001b[34mVolumes\u001b[m\u001b[m/                   \u001b[34msbin\u001b[m\u001b[m/\r\n",
      "\u001b[34mbin\u001b[m\u001b[m/                       \u001b[35mtmp\u001b[m\u001b[m@\r\n",
      "\u001b[34mcores\u001b[m\u001b[m/                     \u001b[34musr\u001b[m\u001b[m/\r\n",
      "\u001b[34mdev\u001b[m\u001b[m/                       \u001b[35mvar\u001b[m\u001b[m@\r\n",
      "\u001b[35metc\u001b[m\u001b[m@\r\n"
     ]
    }
   ],
   "source": [
    "ls"
   ]
  },
  {
   "cell_type": "code",
   "execution_count": 5,
   "metadata": {},
   "outputs": [
    {
     "name": "stdout",
     "output_type": "stream",
     "text": [
      "/Network\n"
     ]
    }
   ],
   "source": [
    "cd network"
   ]
  },
  {
   "cell_type": "code",
   "execution_count": null,
   "metadata": {},
   "outputs": [],
   "source": []
  },
  {
   "cell_type": "code",
   "execution_count": null,
   "metadata": {},
   "outputs": [],
   "source": []
  },
  {
   "cell_type": "code",
   "execution_count": null,
   "metadata": {},
   "outputs": [],
   "source": []
  }
 ],
 "metadata": {
  "kernelspec": {
   "display_name": "Python 3",
   "language": "python",
   "name": "python3"
  },
  "language_info": {
   "codemirror_mode": {
    "name": "ipython",
    "version": 3
   },
   "file_extension": ".py",
   "mimetype": "text/x-python",
   "name": "python",
   "nbconvert_exporter": "python",
   "pygments_lexer": "ipython3",
   "version": "3.6.8"
  }
 },
 "nbformat": 4,
 "nbformat_minor": 2
}
