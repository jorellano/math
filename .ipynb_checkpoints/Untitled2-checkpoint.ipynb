{
 "cells": [
  {
   "cell_type": "code",
   "execution_count": 2,
   "metadata": {},
   "outputs": [
    {
     "data": {
      "text/plain": [
       "True"
      ]
     },
     "execution_count": 2,
     "metadata": {},
     "output_type": "execute_result"
    }
   ],
   "source": [
    "import numpy as np\n",
    "\n",
    "def qr_factorization(A):\n",
    "    m, n = A.shape\n",
    "    Q = np.zeros((m, n))\n",
    "    R = np.zeros((n, n))\n",
    "\n",
    "    for j in range(n):\n",
    "        v = A[:, j]\n",
    "\n",
    "        for i in range(j - 1):\n",
    "            q = Q[:, i]\n",
    "            R[i, j] = q.dot(v)\n",
    "            v = v - R[i, j] * q\n",
    "\n",
    "        norm = np.linalg.norm(v)\n",
    "        Q[:, j] = v / norm\n",
    "        R[j, j] = norm\n",
    "    return Q, R\n",
    "\n",
    "A = np.random.rand(13, 10) * 1000\n",
    "Q, R = qr_factorization(A)\n",
    "\n",
    "Q.shape, R.shape\n",
    "np.abs((A - Q.dot(R)).sum()) < 1e-6"
   ]
  },
  {
   "cell_type": "code",
   "execution_count": 3,
   "metadata": {},
   "outputs": [
    {
     "name": "stdout",
     "output_type": "stream",
     "text": [
      "3.719329833984375e-05\n"
     ]
    }
   ],
   "source": [
    "import numpy.linalg\n",
    ">>> a = [[2, 9, 4], [7, 5, 3], [6, 1, 8]]\n",
    ">>> b = [[1, 0, 0], [0, 1, 0], [0, 0, 1]]\n",
    ">>> numpy.linalg.solve(a,b)\n",
    "\n",
    "import time\n",
    "start = time.time()\n",
    "\"the code you want to test stays here\"\n",
    "end = time.time()\n",
    "print(end - start)"
   ]
  },
  {
   "cell_type": "code",
   "execution_count": 4,
   "metadata": {},
   "outputs": [
    {
     "name": "stdout",
     "output_type": "stream",
     "text": [
      "0.016669034957885742\n",
      "2.384185791015625e-05\n"
     ]
    }
   ],
   "source": [
    "import time\n",
    "start = time.time()\n",
    "a = range(100000)\n",
    "b = []\n",
    "for i in a:\n",
    "    b.append(i*2)\n",
    "end = time.time()\n",
    "print(end - start)\n",
    "\n",
    "import time\n",
    "start = time.time()\n",
    "\"the code you want to test stays here\"\n",
    "end = time.time()\n",
    "print(end - start)"
   ]
  },
  {
   "cell_type": "code",
   "execution_count": 5,
   "metadata": {},
   "outputs": [
    {
     "name": "stdout",
     "output_type": "stream",
     "text": [
      "4.076957702636719e-05\n",
      "0.012434959411621094\n"
     ]
    }
   ],
   "source": [
    "import time\n",
    "start = time.time()\n",
    "\"the code you want to test stays here\"\n",
    "end = time.time()\n",
    "print(end - start)\n",
    "\n",
    "import time\n",
    "start = time.time()\n",
    "a = range(100000)\n",
    "b = [i*2 for i in a]\n",
    "end = time.time()\n",
    "print(end - start)"
   ]
  },
  {
   "cell_type": "code",
   "execution_count": 6,
   "metadata": {},
   "outputs": [
    {
     "name": "stdout",
     "output_type": "stream",
     "text": [
      "2.9325485229492188e-05\n"
     ]
    }
   ],
   "source": [
    "import time\n",
    "start = time.time()\n",
    "\"the code you want to test stays here\"\n",
    "end = time.time()\n",
    "print(end - start)"
   ]
  },
  {
   "cell_type": "code",
   "execution_count": 7,
   "metadata": {},
   "outputs": [
    {
     "name": "stdout",
     "output_type": "stream",
     "text": [
      "3.1948089599609375e-05\n"
     ]
    }
   ],
   "source": [
    "import time\n",
    "start = time.time()\n",
    "\"the code you want to test stays here\"\n",
    "end = time.time()\n",
    "print(end - start)"
   ]
  },
  {
   "cell_type": "code",
   "execution_count": 8,
   "metadata": {},
   "outputs": [
    {
     "name": "stdout",
     "output_type": "stream",
     "text": [
      "4.315376281738281e-05\n"
     ]
    }
   ],
   "source": [
    "import time\n",
    "start = time.time()\n",
    "\"the code you want to test stays here\"\n",
    "end = time.time()\n",
    "print(end - start)"
   ]
  },
  {
   "cell_type": "code",
   "execution_count": 9,
   "metadata": {},
   "outputs": [
    {
     "name": "stdout",
     "output_type": "stream",
     "text": [
      "0.07408428192138672\n"
     ]
    },
    {
     "data": {
      "text/plain": [
       "[[Fraction(1, 1), Fraction(0, 1), Fraction(0, 1)],\n",
       " [Fraction(0, 1), Fraction(1, 1), Fraction(0, 1)],\n",
       " [Fraction(0, 1), Fraction(0, 1), Fraction(1, 1)]]"
      ]
     },
     "execution_count": 9,
     "metadata": {},
     "output_type": "execute_result"
    }
   ],
   "source": [
    "'''import time\n",
    "start = time.time()\n",
    "\"the code you want to test stays here\"\n",
    "end = time.time()\n",
    "print(end - start)'''\n",
    "\n",
    "import time\n",
    "start = time.time()\n",
    "a = range(1000000)\n",
    "b = [i*2 for i in a]\n",
    "end = time.time()\n",
    "print(end - start)\n",
    "\n",
    "# The 'gauss' function takes two matrices, 'a' and 'b', with 'a' square, and it return the determinant of 'a' and a matrix 'x' such that a*x = b.\n",
    "# If 'b' is the identity, then 'x' is the inverse of 'a'.\n",
    " \n",
    "import copy\n",
    "from fractions import Fraction\n",
    " \n",
    "def gauss(a, b):\n",
    "    a = copy.deepcopy(a)\n",
    "    b = copy.deepcopy(b)\n",
    "    n = len(a)\n",
    "    p = len(b[0])\n",
    "    det = 1\n",
    "    for i in range(n - 1):\n",
    "        k = i\n",
    "        for j in range(i + 1, n):\n",
    "            if abs(a[j][i]) > abs(a[k][i]):\n",
    "                k = j\n",
    "        if k != i:\n",
    "            a[i], a[k] = a[k], a[i]\n",
    "            b[i], b[k] = b[k], b[i]\n",
    "            det = -det\n",
    " \n",
    "        for j in range(i + 1, n):\n",
    "            t = a[j][i]/a[i][i]\n",
    "            for k in range(i + 1, n):\n",
    "                a[j][k] -= t*a[i][k]\n",
    "            for k in range(p):\n",
    "                b[j][k] -= t*b[i][k]\n",
    " \n",
    "    for i in range(n - 1, -1, -1):\n",
    "        for j in range(i + 1, n):\n",
    "            t = a[i][j]\n",
    "            for k in range(p):\n",
    "                b[i][k] -= t*b[j][k]\n",
    "        t = 1/a[i][i]\n",
    "        det *= a[i][i]\n",
    "        for j in range(p):\n",
    "            b[i][j] *= t\n",
    "    return det, b\n",
    " \n",
    "def zeromat(p, q):\n",
    "    return [[0]*q for i in range(p)]\n",
    " \n",
    "def matmul(a, b):\n",
    "    n, p = len(a), len(a[0])\n",
    "    p1, q = len(b), len(b[0])\n",
    "    if p != p1:\n",
    "        raise ValueError(\"Incompatible dimensions\")\n",
    "    c = zeromat(n, q)\n",
    "    for i in range(n):\n",
    "        for j in range(q):\n",
    "                c[i][j] = sum(a[i][k]*b[k][j] for k in range(p))\n",
    "    return c\n",
    " \n",
    " \n",
    "def mapmat(f, a):\n",
    "    return [list(map(f, v)) for v in a]\n",
    " \n",
    "def ratmat(a):\n",
    "    return mapmat(Fraction, a)\n",
    " \n",
    "# As an example, compute the determinant and inverse of 3x3 magic square\n",
    " \n",
    "a = [[2, 9, 4], [7, 5, 3], [6, 1, 8]]\n",
    "b = [[1, 0, 0], [0, 1, 0], [0, 0, 1]]\n",
    "det, c = gauss(a, b)\n",
    " \n",
    "det\n",
    "-360.0\n",
    " \n",
    "c\n",
    "[[-0.10277777777777776, 0.18888888888888888, -0.019444444444444438],\n",
    "[0.10555555555555554, 0.02222222222222223, -0.061111111111111116],\n",
    "[0.0638888888888889, -0.14444444444444446, 0.14722222222222223]]\n",
    " \n",
    "# Check product\n",
    "matmul(a, c)\n",
    "[[1.0, 0.0, 0.0], [5.551115123125783e-17, 1.0, 0.0],\n",
    "[1.1102230246251565e-16, -2.220446049250313e-16, 1.0]]\n",
    " \n",
    "# Same with fractions, so the result is exact\n",
    " \n",
    "det, c = gauss(ratmat(a), ratmat(b))\n",
    " \n",
    "det\n",
    "Fraction(-360, 1)\n",
    " \n",
    "c\n",
    "[[Fraction(-37, 360), Fraction(17, 90), Fraction(-7, 360)],\n",
    "[Fraction(19, 180), Fraction(1, 45), Fraction(-11, 180)],\n",
    "[Fraction(23, 360), Fraction(-13, 90), Fraction(53, 360)]]\n",
    " \n",
    "matmul(a, c)\n",
    "[[Fraction(1, 1), Fraction(0, 1), Fraction(0, 1)],\n",
    "[Fraction(0, 1), Fraction(1, 1), Fraction(0, 1)],\n",
    "[Fraction(0, 1), Fraction(0, 1), Fraction(1, 1)]]"
   ]
  },
  {
   "cell_type": "markdown",
   "metadata": {},
   "source": [
    "# output 1A\n",
    "\n",
    "## Range = 100k\n",
    "\n",
    "0.0055789947509765625\n",
    "## [12]:\n",
    "[[Fraction(1, 1), Fraction(0, 1), Fraction(0, 1)],\n",
    " [Fraction(0, 1), Fraction(1, 1), Fraction(0, 1)],\n",
    " [Fraction(0, 1), Fraction(0, 1), Fraction(1, 1)]]\n",
    "\n",
    "# output 1B\n",
    "## Range = 1mil\n",
    "\n",
    "0.06819987297058105\n",
    "[22]:\n",
    "[[Fraction(1, 1), Fraction(0, 1), Fraction(0, 1)],\n",
    " [Fraction(0, 1), Fraction(1, 1), Fraction(0, 1)],\n",
    " [Fraction(0, 1), Fraction(0, 1), Fraction(1, 1)]]\n",
    " \n",
    " # Output2 A\n",
    " 2.5987625122070312e-05\n",
    "[21]:\n",
    "[[Fraction(1, 1), Fraction(0, 1), Fraction(0, 1)],\n",
    " [Fraction(0, 1), Fraction(1, 1), Fraction(0, 1)],\n",
    " [Fraction(0, 1), Fraction(0, 1), Fraction(1, 1)]]\n",
    " "
   ]
  },
  {
   "cell_type": "code",
   "execution_count": 10,
   "metadata": {},
   "outputs": [
    {
     "name": "stdout",
     "output_type": "stream",
     "text": [
      "2.5272369384765625e-05\n"
     ]
    }
   ],
   "source": [
    "import numpy.linalg\n",
    ">>> a = [[2, 9, 4], [7, 5, 3], [6, 1, 8]]\n",
    ">>> b = [[1, 0, 0], [0, 1, 0], [0, 0, 1]]\n",
    ">>> numpy.linalg.solve(a,b)\n",
    "\n",
    "import time\n",
    "start = time.time()\n",
    "\"the code you want to test stays here\"\n",
    "end = time.time()\n",
    "print(end - start)"
   ]
  },
  {
   "cell_type": "code",
   "execution_count": null,
   "metadata": {},
   "outputs": [],
   "source": []
  },
  {
   "cell_type": "markdown",
   "metadata": {},
   "source": [
    "## output 1\n",
    "- 2.5272369384765625e-05"
   ]
  },
  {
   "cell_type": "code",
   "execution_count": null,
   "metadata": {},
   "outputs": [],
   "source": []
  },
  {
   "cell_type": "code",
   "execution_count": null,
   "metadata": {},
   "outputs": [],
   "source": []
  },
  {
   "cell_type": "code",
   "execution_count": null,
   "metadata": {},
   "outputs": [],
   "source": []
  },
  {
   "cell_type": "code",
   "execution_count": null,
   "metadata": {},
   "outputs": [],
   "source": []
  },
  {
   "cell_type": "code",
   "execution_count": null,
   "metadata": {},
   "outputs": [],
   "source": []
  },
  {
   "cell_type": "code",
   "execution_count": null,
   "metadata": {},
   "outputs": [],
   "source": []
  },
  {
   "cell_type": "code",
   "execution_count": null,
   "metadata": {},
   "outputs": [],
   "source": []
  },
  {
   "cell_type": "code",
   "execution_count": null,
   "metadata": {},
   "outputs": [],
   "source": []
  },
  {
   "cell_type": "code",
   "execution_count": null,
   "metadata": {},
   "outputs": [],
   "source": []
  },
  {
   "cell_type": "code",
   "execution_count": null,
   "metadata": {},
   "outputs": [],
   "source": []
  },
  {
   "cell_type": "code",
   "execution_count": null,
   "metadata": {},
   "outputs": [],
   "source": []
  }
 ],
 "metadata": {
  "kernelspec": {
   "display_name": "Python 3",
   "language": "python",
   "name": "python3"
  },
  "language_info": {
   "codemirror_mode": {
    "name": "ipython",
    "version": 3
   },
   "file_extension": ".py",
   "mimetype": "text/x-python",
   "name": "python",
   "nbconvert_exporter": "python",
   "pygments_lexer": "ipython3",
   "version": "3.6.8"
  }
 },
 "nbformat": 4,
 "nbformat_minor": 2
}
